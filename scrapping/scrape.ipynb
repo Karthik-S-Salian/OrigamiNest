{
 "cells": [
  {
   "cell_type": "code",
   "execution_count": 1,
   "metadata": {},
   "outputs": [],
   "source": [
    "from bs4 import BeautifulSoup\n",
    "from pathlib import Path\n",
    "import json\n",
    "import requests"
   ]
  },
  {
   "cell_type": "code",
   "execution_count": 62,
   "metadata": {},
   "outputs": [],
   "source": [
    "data_dir = Path(\"data\")"
   ]
  },
  {
   "cell_type": "code",
   "execution_count": null,
   "metadata": {},
   "outputs": [],
   "source": [
    "for i in range(1,34):\n",
    "    url = f\"https://origami-database.com/models/page/{i}\"\n",
    "    page = requests.get(url)\n",
    "    soup = BeautifulSoup(page.text)\n",
    "    cards = soup.find_all(\"article\")\n",
    "    for card in cards:\n",
    "        d={}\n",
    "        name = card.h2.text.strip()\n",
    "        inner_soup = BeautifulSoup(requests.get(card.a.attrs[\"href\"]).text)\n",
    "        details = inner_soup.select(\".single-model__content__meta__item\")\n",
    "        for detail in details:\n",
    "            property = detail.select_one(\".single-model__content__meta__item__title\").text.strip()\n",
    "            value = detail.select_one(\".single-model__content__meta__item__description\").text.strip()\n",
    "            property = '_'.join(property.lower().split(' '))\n",
    "            if(property==\"video_tutorial\"):\n",
    "                value = detail.a.attrs[\"href\"]\n",
    "            d[property] = value.lower()\n",
    "        d[\"name\"] = name\n",
    "\n",
    "        slug = '_'.join(name.lower().replace('/','_').replace('\\\\','_').split(' '))\n",
    "        image_url = card.img.attrs[\"src\"]\n",
    "        response = requests.get(image_url)\n",
    "\n",
    "        image = f\"{slug}.{image_url.split('.')[-1]}\"\n",
    "\n",
    "        if response.status_code == 200:\n",
    "            with open(f\"images/{image}\", 'wb') as f:\n",
    "                f.write(response.content)\n",
    "        else:\n",
    "            print(f\"{name}: image could not download\")\n",
    "\n",
    "        d[\"image_url\"] = image\n",
    "\n",
    "        file_name = data_dir/f\"{slug}.json\"\n",
    "        with open(file_name,\"w\") as fh:\n",
    "            json.dump(d,fh,indent=4)"
   ]
  }
 ],
 "metadata": {
  "kernelspec": {
   "display_name": "Python 3",
   "language": "python",
   "name": "python3"
  },
  "language_info": {
   "codemirror_mode": {
    "name": "ipython",
    "version": 3
   },
   "file_extension": ".py",
   "mimetype": "text/x-python",
   "name": "python",
   "nbconvert_exporter": "python",
   "pygments_lexer": "ipython3",
   "version": "3.11.6"
  }
 },
 "nbformat": 4,
 "nbformat_minor": 2
}
