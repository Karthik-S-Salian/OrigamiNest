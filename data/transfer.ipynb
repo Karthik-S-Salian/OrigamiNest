{
 "cells": [
  {
   "cell_type": "code",
   "execution_count": 8,
   "metadata": {},
   "outputs": [],
   "source": [
    "from pathlib import Path"
   ]
  },
  {
   "cell_type": "code",
   "execution_count": 9,
   "metadata": {},
   "outputs": [],
   "source": [
    "origin = Path(\"OriSet/origami_classification_data/origamigiladori/\")\n",
    "dest = Path(\"dataset\")"
   ]
  },
  {
   "cell_type": "code",
   "execution_count": 22,
   "metadata": {},
   "outputs": [],
   "source": [
    "count = 0\n",
    "def group_images(keywords:list[str]):\n",
    "    for file in origin.glob(\"**/*.jpg\"):\n",
    "        name = file.name.lower()\n",
    "\n",
    "        for key in keywords:\n",
    "            if key in name.split(\".\")[0].split(\"_\"):\n",
    "                path:Path = dest/key\n",
    "                if(not path.exists()):\n",
    "                    path.mkdir()\n",
    "                already_path = (dest/key/name)\n",
    "                if(already_path.exists()):\n",
    "                    if  already_path.stat().st_size == file.stat().st_size:\n",
    "                        print(\"confict \"+name)\n",
    "                    else:\n",
    "                        file.rename(path/(f\"{name}_{count}\"))\n",
    "                        count+=1\n",
    "                else:\n",
    "                    file.rename(path/name)\n",
    "                break"
   ]
  },
  {
   "cell_type": "code",
   "execution_count": 41,
   "metadata": {},
   "outputs": [],
   "source": [
    "keywords = [\"bear\",\"horse\",\"husky\",\"duck\",\"dragon\",\"rose\",\"swan\",\"tiger\",\"unicorn\",\n",
    "            \"pegasus\",\"frog\",\"boar\",\"bull\",\"fish\",\"cardinal\",\"beetle\",\"bat\",\"butterfly\",\n",
    "            \"carrot\",\"candle\",\"goose\",\"panda\",\"cat\",\"pumpkin\",\"rabbit\",\"santa\",\"squirrel\",\n",
    "            \"turtle\",\"turkey\",\"watch\",\"sheep\",\"rat\",\"rooster\",\"rhinoceros\",\"mouse\",\"owl\",\n",
    "            \"batman\",\"apple\",\"bird\",\"bison\",\"raindeer\",\"alien\",\"crab\",\"crane\",\"devil\",\n",
    "            \"giraffe\",\"goldfish\",\"hippo\",\"house\",\"jackolantern\",\"kitten\",\"knight\",\n",
    "            \"ladybug\",\"lion\",\"lotus\",\"fox\",\"camel\",\"buddha\",\"elephant\",\"pelican\",\n",
    "            \"skunk\",\"skull\",\"snail\",\"armadillo\",\"koala\",\"lizard\",\"moose\",\"nun\",\n",
    "            \"pelican\",\"penguin\",\"pig\",\"pineapple\",\"pteranodon\",\"scottie\",\"scorpion\",\n",
    "            \"spinosaurus\",\"superman\",\"tortoise\",\"trex\",\"vampire\",\"zebra\",\"kangaroo\",\n",
    "            \"kingfisher\",\"maple\",\"manatee\",\"monkey\",\"octopus\",\"parrot\",\"parasaurolophus\",\n",
    "            \"peacock\",\"ostrich\",\"sparrow\",\"toucan\",\"tyrannosaurus\",\"wakin\",\"walrus\",\"wizard\",\n",
    "            \"yoda\",\"songbird\",\"reindeer\",\"dolphin\",\"chameleon\",\"chimpanzee\",\"cow\",\n",
    "            \"crocodile\",\"deer\",\"demon\",\"dog\",\"goat\",\"gorilla\",\"godzilla\",\"koi\",\n",
    "            \"yinyang\",\"stegosaurus\",\"witch\",\"wolf\"]"
   ]
  },
  {
   "cell_type": "code",
   "execution_count": 42,
   "metadata": {},
   "outputs": [],
   "source": [
    "group_images(keywords)"
   ]
  },
  {
   "cell_type": "code",
   "execution_count": null,
   "metadata": {},
   "outputs": [],
   "source": [
    "import pandas as pd"
   ]
  },
  {
   "cell_type": "code",
   "execution_count": 55,
   "metadata": {},
   "outputs": [],
   "source": [
    "dir_names = []\n",
    "counts = []\n",
    "for dir in dest.iterdir():\n",
    "    #data[dir.name] = len([x for x in dir.iterdir()])\n",
    "    dir_names.append(dir.name)\n",
    "    counts.append(len([x for x in dir.iterdir()]))\n",
    "    "
   ]
  },
  {
   "cell_type": "code",
   "execution_count": 62,
   "metadata": {},
   "outputs": [
    {
     "data": {
      "text/plain": [
       "(120, 2)"
      ]
     },
     "execution_count": 62,
     "metadata": {},
     "output_type": "execute_result"
    }
   ],
   "source": [
    "df = pd.DataFrame({\"cat\":dir_names,\"count\":counts})\n",
    "df.shape"
   ]
  },
  {
   "cell_type": "code",
   "execution_count": 63,
   "metadata": {},
   "outputs": [
    {
     "data": {
      "text/html": [
       "<div>\n",
       "<style scoped>\n",
       "    .dataframe tbody tr th:only-of-type {\n",
       "        vertical-align: middle;\n",
       "    }\n",
       "\n",
       "    .dataframe tbody tr th {\n",
       "        vertical-align: top;\n",
       "    }\n",
       "\n",
       "    .dataframe thead th {\n",
       "        text-align: right;\n",
       "    }\n",
       "</style>\n",
       "<table border=\"1\" class=\"dataframe\">\n",
       "  <thead>\n",
       "    <tr style=\"text-align: right;\">\n",
       "      <th></th>\n",
       "      <th>cat</th>\n",
       "      <th>count</th>\n",
       "    </tr>\n",
       "  </thead>\n",
       "  <tbody>\n",
       "    <tr>\n",
       "      <th>88</th>\n",
       "      <td>santa</td>\n",
       "      <td>165</td>\n",
       "    </tr>\n",
       "    <tr>\n",
       "      <th>19</th>\n",
       "      <td>cat</td>\n",
       "      <td>84</td>\n",
       "    </tr>\n",
       "    <tr>\n",
       "      <th>14</th>\n",
       "      <td>butterfly</td>\n",
       "      <td>78</td>\n",
       "    </tr>\n",
       "    <tr>\n",
       "      <th>70</th>\n",
       "      <td>panda</td>\n",
       "      <td>72</td>\n",
       "    </tr>\n",
       "    <tr>\n",
       "      <th>31</th>\n",
       "      <td>dragon</td>\n",
       "      <td>48</td>\n",
       "    </tr>\n",
       "    <tr>\n",
       "      <th>35</th>\n",
       "      <td>flower</td>\n",
       "      <td>46</td>\n",
       "    </tr>\n",
       "    <tr>\n",
       "      <th>33</th>\n",
       "      <td>elephant</td>\n",
       "      <td>39</td>\n",
       "    </tr>\n",
       "    <tr>\n",
       "      <th>29</th>\n",
       "      <td>dog</td>\n",
       "      <td>36</td>\n",
       "    </tr>\n",
       "    <tr>\n",
       "      <th>76</th>\n",
       "      <td>penguin</td>\n",
       "      <td>34</td>\n",
       "    </tr>\n",
       "    <tr>\n",
       "      <th>45</th>\n",
       "      <td>horse</td>\n",
       "      <td>34</td>\n",
       "    </tr>\n",
       "    <tr>\n",
       "      <th>98</th>\n",
       "      <td>squirrel</td>\n",
       "      <td>32</td>\n",
       "    </tr>\n",
       "    <tr>\n",
       "      <th>37</th>\n",
       "      <td>frog</td>\n",
       "      <td>31</td>\n",
       "    </tr>\n",
       "    <tr>\n",
       "      <th>57</th>\n",
       "      <td>lion</td>\n",
       "      <td>30</td>\n",
       "    </tr>\n",
       "    <tr>\n",
       "      <th>65</th>\n",
       "      <td>mouse</td>\n",
       "      <td>29</td>\n",
       "    </tr>\n",
       "    <tr>\n",
       "      <th>79</th>\n",
       "      <td>plane</td>\n",
       "      <td>27</td>\n",
       "    </tr>\n",
       "    <tr>\n",
       "      <th>69</th>\n",
       "      <td>owl</td>\n",
       "      <td>27</td>\n",
       "    </tr>\n",
       "    <tr>\n",
       "      <th>82</th>\n",
       "      <td>rabbit</td>\n",
       "      <td>24</td>\n",
       "    </tr>\n",
       "    <tr>\n",
       "      <th>7</th>\n",
       "      <td>bird</td>\n",
       "      <td>23</td>\n",
       "    </tr>\n",
       "    <tr>\n",
       "      <th>66</th>\n",
       "      <td>nun</td>\n",
       "      <td>22</td>\n",
       "    </tr>\n",
       "    <tr>\n",
       "      <th>74</th>\n",
       "      <td>pegasus</td>\n",
       "      <td>22</td>\n",
       "    </tr>\n",
       "  </tbody>\n",
       "</table>\n",
       "</div>"
      ],
      "text/plain": [
       "          cat  count\n",
       "88      santa    165\n",
       "19        cat     84\n",
       "14  butterfly     78\n",
       "70      panda     72\n",
       "31     dragon     48\n",
       "35     flower     46\n",
       "33   elephant     39\n",
       "29        dog     36\n",
       "76    penguin     34\n",
       "45      horse     34\n",
       "98   squirrel     32\n",
       "37       frog     31\n",
       "57       lion     30\n",
       "65      mouse     29\n",
       "79      plane     27\n",
       "69        owl     27\n",
       "82     rabbit     24\n",
       "7        bird     23\n",
       "66        nun     22\n",
       "74    pegasus     22"
      ]
     },
     "execution_count": 63,
     "metadata": {},
     "output_type": "execute_result"
    }
   ],
   "source": [
    "df.sort_values(by=\"count\",ascending=False).head(20)"
   ]
  },
  {
   "cell_type": "code",
   "execution_count": 66,
   "metadata": {},
   "outputs": [
    {
     "data": {
      "text/plain": [
       "(6357, 1772)"
      ]
     },
     "execution_count": 66,
     "metadata": {},
     "output_type": "execute_result"
    }
   ],
   "source": [
    "sum(1 for _ in origin.glob(\"**/*\")),sum(1 for _ in dest.glob(\"**/*\"))"
   ]
  }
 ],
 "metadata": {
  "kernelspec": {
   "display_name": "Python 3",
   "language": "python",
   "name": "python3"
  },
  "language_info": {
   "codemirror_mode": {
    "name": "ipython",
    "version": 3
   },
   "file_extension": ".py",
   "mimetype": "text/x-python",
   "name": "python",
   "nbconvert_exporter": "python",
   "pygments_lexer": "ipython3",
   "version": "3.11.6"
  }
 },
 "nbformat": 4,
 "nbformat_minor": 2
}
